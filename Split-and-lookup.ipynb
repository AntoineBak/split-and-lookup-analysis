{
 "cells": [
  {
   "cell_type": "markdown",
   "id": "9224fabe",
   "metadata": {},
   "source": [
    "# Exact approximations of Split-and-lookup S-boxes"
   ]
  },
  {
   "cell_type": "markdown",
   "id": "14a0a178",
   "metadata": {},
   "source": [
    "## Computing the number of approximations"
   ]
  },
  {
   "cell_type": "code",
   "execution_count": null,
   "id": "6c257bea",
   "metadata": {},
   "outputs": [],
   "source": [
    "# Get the approximations of small S-boxes\n",
    "\n",
    "def gen_lis(L, a, b, vals):\n",
    "    \"\"\"\n",
    "    Generate a table:\n",
    "    * keys are the values achieved by the map a*L(x)-b*x where x in vals\n",
    "    * values are lists of x's achieving this value\n",
    "    \"\"\"\n",
    "    lis = {}\n",
    "    \n",
    "    for x in vals:\n",
    "        y = a*L[x] - b*x\n",
    "        if y in lis.keys():\n",
    "            lis[y] += 1\n",
    "        else:\n",
    "            lis[y] = 1\n",
    "    return lis\n",
    "\n",
    "def get_count(c, lis):\n",
    "    \"\"\"\n",
    "    Get the number of x such that a*L(x)-b*x = c.\n",
    "    \"\"\"\n",
    "    if c in lis.keys():\n",
    "        return lis[c]\n",
    "    else:\n",
    "        return 0\n"
   ]
  },
  {
   "cell_type": "code",
   "execution_count": null,
   "id": "e40c3565",
   "metadata": {},
   "outputs": [],
   "source": [
    "# Generate the carry matrices using the lists\n",
    "\n",
    "def const_to_mat(lis, a, b, c):\n",
    "    \"\"\"\n",
    "    Compute the matrix whose coefficients are\n",
    "    * c_ij = #{x | a*L(x)-b*x = c+2^8*i - j}\n",
    "    \"\"\"\n",
    "    low = -(max(0, -a) + max(0,  b) + 1)\n",
    "    up  =   max(0,  a) + max(0, -b)\n",
    "    \n",
    "    mat = matrix(ZZ, [[get_count(c-i+j*256, lis) for i in range(low, up+1)]\n",
    "                      for j in range(low, up+1)])\n",
    "    \n",
    "    return mat\n",
    "\n",
    "def list_to_mat(lis, a, b, c_list):\n",
    "    \"\"\"\n",
    "    Compute the same matrix, but for a list of constants using matrix product.\n",
    "    \"\"\"\n",
    "    mat = const_to_mat(lis, a, b, c_list[0], )\n",
    "    for c in c_list[1:]:\n",
    "        mat = mat * const_to_mat(lis, a, b, c)\n",
    "    return mat"
   ]
  },
  {
   "cell_type": "code",
   "execution_count": null,
   "id": "98587b3c",
   "metadata": {},
   "outputs": [],
   "source": [
    "# Transform a field element into a list\n",
    "\n",
    "def int_to_list(c, n):\n",
    "    \"\"\"\n",
    "    Transform a Fp field element into a list of integers\n",
    "    Decomposition in base 256.\n",
    "    \"\"\"\n",
    "    c_list = []\n",
    "    \n",
    "    for i in range(n):\n",
    "        c_list.append(c % 256)\n",
    "        c //= 256\n",
    "    c_list.reverse()\n",
    "    return c_list"
   ]
  },
  {
   "cell_type": "code",
   "execution_count": null,
   "id": "9158c509",
   "metadata": {},
   "outputs": [],
   "source": [
    "# Compute the number of approximations when p is the Goldilocks prime.\n",
    "\n",
    "def mat_goldi(L, a, b, c):\n",
    "    \"\"\"\n",
    "    Generate the carry matrix of S.\n",
    "    \"\"\"\n",
    "    lis     = gen_lis(L, a, b, range(256))\n",
    "    lis_255 = gen_lis(L, a, b, [255])\n",
    "    lis_0   = gen_lis(L, a, b, [0])\n",
    "    \n",
    "    c_list = int_to_list(c, 8)\n",
    "    \n",
    "    mat_left    = list_to_mat(lis,     a, b, c_list[:4])\n",
    "    mat_left255 = list_to_mat(lis_255, a, b, c_list[:4])\n",
    "    mat_right   = list_to_mat(lis,     a, b, c_list[4:])\n",
    "    mat_right0  = list_to_mat(lis_0,   a, b, c_list[4:])\n",
    "    \n",
    "    mat = mat_left*mat_right - mat_left255*mat_right + mat_left255*mat_right0\n",
    "    return mat\n",
    "\n",
    "def approximations_goldi(L, a, b, c):\n",
    "    \"\"\"\n",
    "    Compute the number of approximations of the form:\n",
    "    S(x) = b/a *x + c\n",
    "    \"\"\"\n",
    "    p = 2**64 - 2**32 + 1\n",
    "    \n",
    "    low = -(max(0, -a) + max(0,  b) + 1)\n",
    "    up  =   max(0,  a) + max(0, -b)\n",
    "    \n",
    "    score = 0\n",
    "    \n",
    "    for k in range(low, up+1):\n",
    "        c_prime  = (c + k*p)\n",
    "        k_prime  = c_prime // 2**64\n",
    "        c_prime %= 2**64\n",
    "        \n",
    "        mat_k = mat_goldi(L, a, b, c_prime)\n",
    "        \n",
    "        score += mat_k[k_prime -low, -low]\n",
    "        \n",
    "    return score"
   ]
  },
  {
   "cell_type": "code",
   "execution_count": null,
   "id": "4fa6060d",
   "metadata": {},
   "outputs": [],
   "source": [
    "def mat_mersenne(L256, L128, a, b, c):\n",
    "    \"\"\"\n",
    "    Generate the carry matrix of S.\n",
    "    \"\"\"\n",
    "    lis256 = gen_lis(L256, a, b, range(256))\n",
    "    lis255 = gen_lis(L256, a, b, [255])\n",
    "    lis128 = gen_lis(L128, a, b, range(128))\n",
    "    lis127 = gen_lis(L128, a, b, [127])\n",
    "    \n",
    "    c_list = int_to_list(c, 4)\n",
    "    mat_full = const_to_mat(lis128, a, b, c_list[0])*list_to_mat(lis256, a, b, c_list[1:])\n",
    "    mat_ffff = const_to_mat(lis127, a, b, c_list[0])*list_to_mat(lis255, a, b, c_list[1:])\n",
    "    \n",
    "    mat = mat_full - mat_ffff\n",
    "    return mat\n",
    "   \n",
    "def approximations_mersenne(L256, L128, a, b, c):\n",
    "    mat = mat_mersenne(L256, L128, a, b, c)\n",
    "    return mat.trace()"
   ]
  },
  {
   "cell_type": "code",
   "execution_count": null,
   "id": "edd63013",
   "metadata": {
    "scrolled": true
   },
   "outputs": [],
   "source": []
  },
  {
   "cell_type": "code",
   "execution_count": null,
   "id": "86605195",
   "metadata": {},
   "outputs": [],
   "source": []
  },
  {
   "cell_type": "markdown",
   "id": "17f4a1fe",
   "metadata": {},
   "source": [
    "## Some examples of Split-and-lookups"
   ]
  },
  {
   "cell_type": "markdown",
   "id": "4f4e4ccd",
   "metadata": {},
   "source": [
    "### AES S-box (Rescaled)"
   ]
  },
  {
   "cell_type": "code",
   "execution_count": null,
   "id": "ec864bc0",
   "metadata": {},
   "outputs": [],
   "source": [
    "from sage.crypto.sboxes import sboxes\n",
    "\n",
    "F28.<x> = GF(2)[x].quotient(x**8 + x**4 + x**3 + x + 1)\n",
    "\n",
    "def int_to_F28(xi):\n",
    "    res = F28(0)\n",
    "    \n",
    "    for i in range(8):\n",
    "        res += (xi % 2) *x**i\n",
    "        xi//= 2\n",
    "    return res\n",
    "\n",
    "def F28_to_int(xi):\n",
    "    res = 0\n",
    "    \n",
    "    for i in range(len(xi.list())):\n",
    "        res += int(xi.list()[i])*2**i\n",
    "    return res\n"
   ]
  },
  {
   "cell_type": "code",
   "execution_count": null,
   "id": "328d29d5",
   "metadata": {},
   "outputs": [],
   "source": [
    "# Get AES S-box\n",
    "L_aes = sboxes[\"AES\"]\n",
    "\n",
    "# Add fixed points 0x00 and 0xff\n",
    "L_aes = [int_to_F28(y ^^ 0x63) for y in L_aes]\n",
    "L_aes = [y*int_to_F28(0xff)/int_to_F28(0x75) for y in L_aes]\n",
    "L_aes = [F28_to_int(y) for y in L_aes]\n",
    "\n",
    "print(\"AES S-box:\")\n",
    "print(L_aes)\n",
    "\n",
    "a, b, c = 1, 1, 2025524839466146844\n",
    "\n",
    "print(\"Best approximation found: {}*S(x) = {}*x + {}\".format(a, b, c))\n",
    "print(\"For {} values of x.\".format(approximations_goldi(L_aes, a, b, c)))"
   ]
  },
  {
   "cell_type": "markdown",
   "id": "3c11ae2e",
   "metadata": {},
   "source": [
    "### iScream S-box (Rescaled)"
   ]
  },
  {
   "cell_type": "code",
   "execution_count": null,
   "id": "dfafe30c",
   "metadata": {},
   "outputs": [],
   "source": [
    "# Get iScream S-box\n",
    "L_iscream = sboxes[\"iScream\"]\n",
    "\n",
    "# Add fixed point 0xff\n",
    "L_iscream = [y ^^ (y << 1) & 0xff for y in L_iscream]\n",
    "L_iscream = [y ^^ (y << 4) & 0xff for y in L_iscream]\n",
    "\n",
    "print(\"iScream S-box:\")\n",
    "print(L_iscream)\n",
    "\n",
    "a, b, c = 1, -1, 1157442769704194062\n",
    "\n",
    "print(\"Best approximation found: {}*S(x) = {}*x + {}\".format(a, b, c))\n",
    "print(\"For {} values of x.\".format(approximations_goldi(L_iscream, a, b, c)))"
   ]
  },
  {
   "cell_type": "markdown",
   "id": "8728503a",
   "metadata": {},
   "source": [
    "### Tip5 S-box"
   ]
  },
  {
   "cell_type": "code",
   "execution_count": null,
   "id": "7e774073",
   "metadata": {},
   "outputs": [],
   "source": [
    "Fr = GF(257)"
   ]
  },
  {
   "cell_type": "code",
   "execution_count": null,
   "id": "a7256bd1",
   "metadata": {
    "scrolled": false
   },
   "outputs": [],
   "source": [
    "L_tip5 = [(Fr(x)+1)**3-1 for x in range(256)]\n",
    "L_tip5 = [int(y) for y in L_tip5]\n",
    "\n",
    "print(\"Tip5 S-box:\")\n",
    "print(L_tip5)\n",
    "\n",
    "a, b, c = 1, -1, 606306544323790996\n",
    "\n",
    "print(\"Best approximation found: {}*S(x) = {}*x + {}\".format(a, b, c))\n",
    "print(\"For {} values of x.\".format(approximations_goldi(L_tip5, a, b, c)))"
   ]
  },
  {
   "cell_type": "markdown",
   "id": "8b34b7ed",
   "metadata": {},
   "source": [
    "### Monolith S-box"
   ]
  },
  {
   "cell_type": "code",
   "execution_count": null,
   "id": "db393bf1",
   "metadata": {},
   "outputs": [],
   "source": [
    "def shift(x, sh, n):\n",
    "    return ((x  << sh) | (x >> (n-sh))) & (2**n-1)\n",
    "\n",
    "def not_(x, n):\n",
    "    return x ^^ (2**n -1)\n",
    "\n",
    "def chi_daemen_shift(x):\n",
    "    return shift(x ^^ (shift(not_(x, 8), 1, 8) & shift(x, 2, 8) & shift(x, 3, 8)), 1, 8)\n",
    "\n",
    "def chi_daemen_shift_7(x):\n",
    "    return shift(x ^^ (shift(not_(x, 7), 1, 7) & shift(x, 2, 7)), 1, 7)"
   ]
  },
  {
   "cell_type": "code",
   "execution_count": null,
   "id": "d06ebab6",
   "metadata": {},
   "outputs": [],
   "source": [
    "L_monolith   = [chi_daemen_shift(x) for x in range(256)]\n",
    "\n",
    "print(\"Monolith S-box:\")\n",
    "print(L_monolith)\n",
    "\n",
    "a, b, c = 1, 2, 0\n",
    "\n",
    "print(\"Best approximation found: {}*S(x) = {}*x + {}\".format(a, b, c))\n",
    "print(\"For {} values of x.\".format(approximations_goldi(L_monolith, a, b, c)))"
   ]
  },
  {
   "cell_type": "code",
   "execution_count": null,
   "id": "ef34a012",
   "metadata": {
    "scrolled": true
   },
   "outputs": [],
   "source": [
    "L_monolith_7 = [chi_daemen_shift_7(x) for x in range(128)]\n",
    "\n",
    "print(\"Monolith S-box (7 bits):\")\n",
    "print(L_monolith_7)\n",
    "\n",
    "\n",
    "a, b, c = 1, 2, 2**24\n",
    "\n",
    "print(\"Best approximation found: {}*S(x) = {}*x + {}\".format(a, b, c))\n",
    "print(\"For {} values of x.\".format(approximations_mersenne(L_monolith, L_monolith_7, a, b, c)))"
   ]
  },
  {
   "cell_type": "code",
   "execution_count": null,
   "id": "60b97f5e",
   "metadata": {},
   "outputs": [],
   "source": []
  },
  {
   "cell_type": "markdown",
   "id": "a25a11da",
   "metadata": {},
   "source": [
    "# Walsh spectrum of Split-and-lookups"
   ]
  },
  {
   "cell_type": "code",
   "execution_count": null,
   "id": "fa9d6494",
   "metadata": {},
   "outputs": [],
   "source": [
    "p = 2**64-2**32+1"
   ]
  },
  {
   "cell_type": "markdown",
   "id": "ff7b142f",
   "metadata": {},
   "source": [
    "## Computing correlation for a given mask"
   ]
  },
  {
   "cell_type": "code",
   "execution_count": null,
   "id": "f52caf0b",
   "metadata": {},
   "outputs": [],
   "source": [
    "def walsh_coeff(L, a, b):\n",
    "    \"\"\"\n",
    "    Compute a coefficient of the Walsh transform of S.\n",
    "    \"\"\"\n",
    "    s     = 8*[0]\n",
    "    ones  = 8*[0]\n",
    "    zeros = 8*[0]\n",
    "    \n",
    "    zeta_p = CC.zeta(p)\n",
    "    \n",
    "    # Compute the coefficients.\n",
    "    for i in range(8):\n",
    "        for x in range(256):\n",
    "            s[i] += zeta_p**((a*L[x]-b*x)*2**(8*i) % p)\n",
    "        ones[i]   = zeta_p**((a*L[0xff]-b*0xff)*2**(8*i) % p)\n",
    "        zeros[i]  = zeta_p**((a*L[0x00]-b*0x00)*2**(8*i) % p)\n",
    "    \n",
    "    # Compute the sum over x<2^64.\n",
    "    prod_64 = 1\n",
    "    for i in range(8):\n",
    "        prod_64 *= s[i]\n",
    "    \n",
    "    # Compute the sum over values counted twice \n",
    "    # (ie of the form 0xffffffff********).\n",
    "    prod_32 = 1\n",
    "    for i in range(4):\n",
    "        prod_32 *= s[i]\n",
    "    for i in range(4,8):\n",
    "        prod_32 *= ones[i]\n",
    "    \n",
    "    # Compute the value for 0xffffffff00000000.\n",
    "    prod_0 = 1\n",
    "    for i in range(4):\n",
    "        prod_0 *= zeros[i]\n",
    "    for i in range(4,8):\n",
    "        prod_0 *= ones[i]\n",
    "    \n",
    "    res = prod_64 - prod_32 + prod_0\n",
    "    return res\n"
   ]
  },
  {
   "cell_type": "markdown",
   "id": "389893d5",
   "metadata": {},
   "source": [
    "## Examples of Tip5 and Monolith."
   ]
  },
  {
   "cell_type": "code",
   "execution_count": null,
   "id": "38118383",
   "metadata": {},
   "outputs": [],
   "source": [
    "a, b = 22, 14\n",
    "\n",
    "print(\"Correlation for Tip5:\")\n",
    "print(\"{}*S(x) - {}*x : {}\".format(a, b, abs(walsh_coeff(L_tip5, a, b))/p))"
   ]
  },
  {
   "cell_type": "code",
   "execution_count": null,
   "id": "6e228215",
   "metadata": {},
   "outputs": [],
   "source": [
    "a, b = 1, 2\n",
    "\n",
    "print(\"Correlation for Monolith:\")\n",
    "print(\"{}*S(x) - {}*x : {}\".format(a, b, abs(walsh_coeff(L_monolith, a, b))/p))"
   ]
  },
  {
   "cell_type": "code",
   "execution_count": null,
   "id": "b9f8091b",
   "metadata": {},
   "outputs": [],
   "source": []
  }
 ],
 "metadata": {
  "kernelspec": {
   "display_name": "SageMath 9.5",
   "language": "sage",
   "name": "sagemath"
  },
  "language_info": {
   "codemirror_mode": {
    "name": "ipython",
    "version": 3
   },
   "file_extension": ".py",
   "mimetype": "text/x-python",
   "name": "python",
   "nbconvert_exporter": "python",
   "pygments_lexer": "ipython3",
   "version": "3.10.12"
  }
 },
 "nbformat": 4,
 "nbformat_minor": 5
}
