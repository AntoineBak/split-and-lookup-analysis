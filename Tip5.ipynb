{
 "cells": [
  {
   "cell_type": "markdown",
   "metadata": {},
   "source": [
    "# Tip5"
   ]
  },
  {
   "cell_type": "code",
   "execution_count": 38,
   "metadata": {
    "collapsed": true
   },
   "outputs": [],
   "source": [
    "p = 2**64 -2**32+1\n",
    "Fp = GF(p)\n",
    "\n",
    "r = 2**8+1\n",
    "Fr = GF(r)"
   ]
  },
  {
   "cell_type": "markdown",
   "metadata": {},
   "source": [
    "## S-boxes"
   ]
  },
  {
   "cell_type": "code",
   "execution_count": 39,
   "metadata": {
    "collapsed": false
   },
   "outputs": [],
   "source": [
    "## Define the S-box T.\n",
    "\n",
    "def T(x):\n",
    "    \"\"\"\n",
    "    Input:\n",
    "        x:Fp\n",
    "    Output:\n",
    "        T(x):Fp\n",
    "    \"\"\"\n",
    "    return x**7\n",
    "\n",
    "def T_inv(x):\n",
    "    \"\"\"\n",
    "    Inverse of T.\n",
    "    \"\"\"\n",
    "    return x**10540996611094048183"
   ]
  },
  {
   "cell_type": "code",
   "execution_count": 40,
   "metadata": {
    "collapsed": false
   },
   "outputs": [],
   "source": [
    "## Define the S-box S.\n",
    "\n",
    "R = Fp(2**64)\n",
    "\n",
    "def sigma(x):\n",
    "    \"\"\"\n",
    "    Input:\n",
    "        x:Fp\n",
    "    Output:\n",
    "        x_list:Fr⁸, decomposition of x in base 256\n",
    "    \"\"\"\n",
    "    b = 256\n",
    "    x_int = ZZ(x)\n",
    "    x_list = []\n",
    "    for i in range(8):\n",
    "        xi = Fr(x_int % b)\n",
    "        x_list.append(xi)\n",
    "        x_int //= 256\n",
    "    return x_list\n",
    "\n",
    "def L(xi):\n",
    "    \"\"\"\n",
    "    Input:\n",
    "        xi:Fr\n",
    "    Output:\n",
    "        L(xi):Fr\n",
    "    \"\"\"\n",
    "    return (xi+1)**3-1\n",
    "\n",
    "def L8(x_list):\n",
    "    \"\"\"\n",
    "    Input:\n",
    "        x_list:Fr⁸\n",
    "    Output:\n",
    "        L8(x_list):Fr⁸, L applied elementwise\n",
    "    \"\"\"\n",
    "    x_L8 = [L(xi) for xi in x_list]\n",
    "    return x_L8\n",
    "\n",
    "def L_inv(xi):\n",
    "    \"\"\"\n",
    "    Inverse of L.\n",
    "    \"\"\"\n",
    "    return (xi+1)**171-1\n",
    "\n",
    "def L8_inv(x_list):\n",
    "    \"\"\"\n",
    "    Inverse of L8.\n",
    "    \"\"\"\n",
    "    x_L8_inv = [L_inv(xi) for xi in x_list]\n",
    "    return x_L8_inv\n",
    "\n",
    "def rho(x_list):\n",
    "    \"\"\"\n",
    "    Input:\n",
    "        x_list:Fr⁸\n",
    "    Output:\n",
    "        x:Fp, inverse operation of sigma\n",
    "    \"\"\"\n",
    "    x = Fp(0)\n",
    "    b = 256\n",
    "    for i in range(8):\n",
    "        x += Fp(x_list[i])*b**i\n",
    "    return x\n",
    "    \n",
    "\n",
    "def S(x):\n",
    "    \"\"\"\n",
    "    Input:\n",
    "        x:Fp\n",
    "    Output:\n",
    "        S(x):Fp, output of the S-box S\n",
    "    \"\"\"\n",
    "    y = 1/R * rho(L8(sigma(R*x)))\n",
    "    return y\n",
    "\n",
    "def S_inv(x):\n",
    "    \"\"\"\n",
    "    Inverse of S.\n",
    "    \"\"\"\n",
    "    y = 1/R * rho(L8_inv(sigma(R*x)))\n",
    "    return y"
   ]
  },
  {
   "cell_type": "markdown",
   "metadata": {},
   "source": [
    "## Linear layer"
   ]
  },
  {
   "cell_type": "code",
   "execution_count": 41,
   "metadata": {
    "collapsed": false
   },
   "outputs": [],
   "source": [
    "## Linear part of Tip5.\n",
    "\n",
    "Mcol =  vector(Fp, [\n",
    "    61402, 1108, 28750, 33823, 7454, 43244, 53865, 12034, 56951, 27521, 41351, 40901, 12021, 59689, 26798, 17845\n",
    "])\n",
    "M = matrix.circulant(Mcol).transpose()"
   ]
  },
  {
   "cell_type": "markdown",
   "metadata": {},
   "source": [
    "## Round permutation and f permutation"
   ]
  },
  {
   "cell_type": "code",
   "execution_count": 42,
   "metadata": {
    "collapsed": false
   },
   "outputs": [],
   "source": [
    "## Calcul de la permutation f\n",
    "\n",
    "def f_round(X, round_constant):\n",
    "    \"\"\"\n",
    "    Input:\n",
    "        X:Fp^16, state of the permutation\n",
    "        round_constant:Fp^16, constant added to the round\n",
    "    Output:\n",
    "        Y:Fp^16, state after one round\n",
    "    \"\"\"\n",
    "    Y = zero_vector(Fp, 16)\n",
    "    for i in range(4):\n",
    "        Y[i] = S(X[i])\n",
    "    for i in range(4,16):\n",
    "        Y[i] = T(X[i])\n",
    "    \n",
    "    Y = M*Y + round_constant\n",
    "    \n",
    "    return Y\n",
    "\n",
    "def f_round_inv(Y, round_constant):\n",
    "    \"\"\"\n",
    "    Inverse of a round of f.\n",
    "    \"\"\"\n",
    "    M_inv = M.inverse()\n",
    "    X = M_inv*(Y - round_constant)\n",
    "    \n",
    "    for i in range(4):\n",
    "        X[i] = S_inv(X[i])\n",
    "    for i in range(4,16):\n",
    "        X[i] = T_inv(X[i])\n",
    "    \n",
    "    return X\n",
    "\n",
    "def f(X, round_constants):\n",
    "    \"\"\"\n",
    "    Input:\n",
    "        X:Fp^16, state of the permutation\n",
    "        round_constant:Fp^16, constant added to the round\n",
    "    Output:\n",
    "        Y:Fp^16, state after one round\n",
    "    \"\"\"\n",
    "    Y = X\n",
    "    for round_constant in round_constants:\n",
    "        Y = f_round(Y, round_constant)\n",
    "    \n",
    "    return Y"
   ]
  },
  {
   "cell_type": "markdown",
   "metadata": {},
   "source": [
    "## Round constants"
   ]
  },
  {
   "cell_type": "code",
   "execution_count": 43,
   "metadata": {
    "collapsed": false
   },
   "outputs": [],
   "source": [
    "## Ajout des round constants\n",
    "\n",
    "round_constants = [\n",
    "    vector(Fp, [\n",
    "        13630775303355457758,\n",
    "        16896927574093233874,\n",
    "        10379449653650130495,\n",
    "        1965408364413093495,\n",
    "        15232538947090185111,\n",
    "        15892634398091747074,\n",
    "        3989134140024871768,\n",
    "        2851411912127730865,\n",
    "        8709136439293758776,\n",
    "        3694858669662939734,\n",
    "        12692440244315327141,\n",
    "        10722316166358076749,\n",
    "        12745429320441639448,\n",
    "        17932424223723990421,\n",
    "        7558102534867937463,\n",
    "        15551047435855531404\n",
    "            ]\n",
    "        ),\n",
    "    vector(Fp, [\n",
    "        17532528648579384106,\n",
    "        5216785850422679555,\n",
    "        15418071332095031847,\n",
    "        11921929762955146258,\n",
    "        9738718993677019874,\n",
    "        3464580399432997147,\n",
    "        13408434769117164050,\n",
    "        264428218649616431,\n",
    "        4436247869008081381,\n",
    "        4063129435850804221,\n",
    "        2865073155741120117,\n",
    "        5749834437609765994,\n",
    "        6804196764189408435,\n",
    "        17060469201292988508,\n",
    "        9475383556737206708,\n",
    "        12876344085611465020\n",
    "            ]\n",
    "        ),\n",
    "    vector(Fp, [\n",
    "        13835756199368269249,\n",
    "        1648753455944344172,\n",
    "        9836124473569258483,\n",
    "        12867641597107932229,\n",
    "        11254152636692960595,\n",
    "        16550832737139861108,\n",
    "        11861573970480733262,\n",
    "        1256660473588673495,\n",
    "        13879506000676455136,\n",
    "        10564103842682358721,\n",
    "        16142842524796397521,\n",
    "        3287098591948630584,\n",
    "        685911471061284805,\n",
    "        5285298776918878023,\n",
    "        18310953571768047354,\n",
    "        3142266350630002035\n",
    "            ]\n",
    "        ),\n",
    "    vector(Fp, [\n",
    "        549990724933663297,\n",
    "        4901984846118077401,\n",
    "        11458643033696775769,\n",
    "        8706785264119212710,\n",
    "        12521758138015724072,\n",
    "        11877914062416978196,\n",
    "        11333318251134523752,\n",
    "        3933899631278608623,\n",
    "        16635128972021157924,\n",
    "        10291337173108950450,\n",
    "        4142107155024199350,\n",
    "        16973934533787743537,\n",
    "        11068111539125175221,\n",
    "        17546769694830203606,\n",
    "        5315217744825068993,\n",
    "        4609594252909613081\n",
    "            ]\n",
    "        ),\n",
    "    vector(Fp, [\n",
    "        3350107164315270407,\n",
    "        17715942834299349177,\n",
    "        9600609149219873996,\n",
    "        12894357635820003949,\n",
    "        4597649658040514631,\n",
    "        7735563950920491847,\n",
    "        1663379455870887181,\n",
    "        13889298103638829706,\n",
    "        7375530351220884434,\n",
    "        3502022433285269151,\n",
    "        9231805330431056952,\n",
    "        9252272755288523725,\n",
    "        10014268662326746219,\n",
    "        15565031632950843234,\n",
    "        1209725273521819323,\n",
    "        6024642864597845108\n",
    "            ]\n",
    "        )\n",
    "]\n"
   ]
  },
  {
   "cell_type": "markdown",
   "metadata": {},
   "source": [
    "## The Tip5 hash function"
   ]
  },
  {
   "cell_type": "code",
   "execution_count": 44,
   "metadata": {
    "collapsed": true
   },
   "outputs": [],
   "source": [
    "def Tip5(input_vec):\n",
    "    \"\"\"\n",
    "    Implementation of the 10-to-5 Tip5 hash function.\n",
    "    \n",
    "    Input:\n",
    "        input_vec: Fp^10.\n",
    "    Output:\n",
    "        output: Fp^5.\n",
    "    \"\"\"\n",
    "    X = zero_vector(Fp, 16)\n",
    "    for i in range(10):\n",
    "        X[i] = input_vec[i]\n",
    "    for i in range(10,16):\n",
    "        X[i] = Fp(1)\n",
    "    \n",
    "    Y = f(X, round_constants)\n",
    "    output = Y[:5]\n",
    "    return output\n"
   ]
  },
  {
   "cell_type": "markdown",
   "metadata": {},
   "source": [
    "# Winning one round in univariate cryptanalysis"
   ]
  },
  {
   "cell_type": "markdown",
   "metadata": {},
   "source": [
    "Find affine spaces such that inverting 2 rounds gives a valid input for Tip5.\n",
    "\n",
    "Allows to skip 2 rounds in univariate cryptanalysis."
   ]
  },
  {
   "cell_type": "code",
   "execution_count": null,
   "metadata": {
    "collapsed": false
   },
   "outputs": [],
   "source": [
    "R = Fp['x0, x1, x2, x3']\n",
    "\n",
    "def fix_constants(M, round_constant1, round_constant2, target):\n",
    "    \"\"\"\n",
    "    Choose the constant of the affine subspace.\n",
    "    \n",
    "    Input:\n",
    "        M:16x16 matrix, linear layer.\n",
    "        round_constant1: length 16 vector in Fp, constants of the first round.\n",
    "        target: the fixed values in the capacity of the hash function.\n",
    "    Output:\n",
    "        b: length 16 vector in Fp.\n",
    "    \"\"\"\n",
    "    M_inv = M.inverse()\n",
    "    target_after_affine_layer = (M_inv * round_constant1)[10:] + target\n",
    "    M_inv_sub = M_inv[10:, :6]\n",
    "    constant = M_inv_sub.inverse() * target_after_affine_layer\n",
    "    b = zero_vector(Fp, 16)\n",
    "    for i in range(4):\n",
    "        b[i] = S(constant[i])\n",
    "    for i in range(4, 6):\n",
    "        b[i] = T(constant[i])\n",
    "    b = M*b + round_constant2\n",
    "    \n",
    "    return b\n",
    "\n",
    "def orthogonal_vector(M):\n",
    "    \"\"\"\n",
    "    Input:\n",
    "        M:16x16 matrix, linear layer.\n",
    "        i: index of the vector chosen in the basis of the kernel.\n",
    "    Output:\n",
    "        a: length 16 vector in Fp.\n",
    "    \"\"\"\n",
    "    M_inv = M.inverse()\n",
    "    M_inv_sub = M_inv[10:, 6:]\n",
    "    \n",
    "    vec = zero_vector(R, 16)\n",
    "    x = R.gens()\n",
    "    base = M_inv_sub.right_kernel().basis()\n",
    "    \n",
    "    for i in range(4):\n",
    "        for j in range(16):\n",
    "            print(j)\n",
    "            vec[j] += x[i] * base[i][j]\n",
    "    a = zero_vector(Fp, 16)\n",
    "    \n",
    "    for j in range(10):\n",
    "        a[j+6] = T(vec[j])\n",
    "    a = M*a\n",
    "    print(a)\n",
    "    return a\n",
    "\n",
    "def control_from_round2(x, a, b):\n",
    "    \"\"\"\n",
    "    Get a valid input from an element in the affine space Fp*a + b.\n",
    "    \"\"\"\n",
    "    y = a*x + b\n",
    "    \n",
    "    input_vec = f_round_inv(y, round_constants[1])\n",
    "    input_vec = f_round_inv(input_vec, round_constants[0])\n",
    "    return input_vec"
   ]
  },
  {
   "cell_type": "markdown",
   "metadata": {
    "collapsed": true
   },
   "source": [
    "# Tests"
   ]
  },
  {
   "cell_type": "markdown",
   "metadata": {},
   "source": [
    "## Step by step test"
   ]
  },
  {
   "cell_type": "code",
   "execution_count": 46,
   "metadata": {
    "collapsed": false,
    "scrolled": true
   },
   "outputs": [
    {
     "name": "stdout",
     "output_type": "stream",
     "text": [
      "Input vector : \n",
      "(0, 1, 2, 3, 4, 5, 6, 7, 8, 9, 10, 11, 12, 13, 14, 15)\n",
      "S-box output : \n",
      "(0, 1, 8, 27, 16384, 78125, 279936, 823543, 2097152, 4782969, 10000000, 19487171, 35831808, 62748517, 105413504, 170859375)\n",
      "MDS output : \n",
      "(7205364737005, 12042395183376, 12272828223119, 11340812806600, 17092227296585, 16460982307488, 12559497484731, 17742389185208, 13715383884189, 15300900766312, 14022676374143, 12105605573328, 16882252994553, 11429837802656, 11703409729659, 14542940950688)\n"
     ]
    }
   ],
   "source": [
    "## Test couche par couche\n",
    "\n",
    "input_vector = vector(Fp, range(16))\n",
    "\n",
    "# Input: [0, 1, 2, 3, 4, 5, 6, 7, 8, 9, 10, 11, 12, 13, 14, 15]\n",
    "print(\"Input vector : \")\n",
    "print(input_vector)\n",
    "\n",
    "\n",
    "S_box = zero_vector(Fp, 16)\n",
    "for i in range(4):\n",
    "    S_box[i] = S(input_vector[i])\n",
    "for i in range(4,16):\n",
    "    S_box[i] = T(input_vector[i])\n",
    "\n",
    "# Sbox: [0, 1, 8, 27, \n",
    "#        16384, 78125, 279936, 823543, \n",
    "#        2097152, 4782969, 10000000, 19487171, \n",
    "#        35831808, 62748517, 105413504, 170859375]\n",
    "print(\"S-box output : \")\n",
    "print(S_box)\n",
    "\n",
    "MDS = M*S_box\n",
    "\n",
    "# MDS: [7205364737005, 12042395183376, 12272828223119, 11340812806600, \n",
    "#       17092227296585, 16460982307488, 12559497484731, 17742389185208, \n",
    "#       13715383884189, 15300900766312, 14022676374143, 12105605573328, \n",
    "#       16882252994553, 11429837802656, 11703409729659, 14542940950688]\n",
    "print(\"MDS output : \")\n",
    "print(MDS)\n"
   ]
  },
  {
   "cell_type": "markdown",
   "metadata": {},
   "source": [
    "## Round by round test"
   ]
  },
  {
   "cell_type": "code",
   "execution_count": 47,
   "metadata": {
    "collapsed": false,
    "scrolled": true
   },
   "outputs": [
    {
     "name": "stdout",
     "output_type": "stream",
     "text": [
      "Input vector : \n",
      "(0, 1, 2, 3, 4, 5, 6, 7, 8, 9, 10, 11, 12, 13, 14, 15)\n",
      "Round 0:\n",
      "(13630782508720194763, 16896939616488417250, 10379461926478353614, 1965419705225900095, 15232556039317481696, 15892650859074054562, 3989146699522356499, 2851429654516916073, 8709150154677642965, 3694873970563706046, 12692454266991701284, 10722328271963650077, 12745446202694634001, 17932435653561793077, 7558114238277667122, 15551061978796482092)\n",
      "Round 1:\n",
      "(5525363112442782795, 3196671190848592148, 6751865969657517721, 6246363638275815365, 17526105136308566870, 6414711837228726335, 17165555941248860828, 10245588381698521362, 17368540314743694648, 14208333065255843385, 12223130565514930992, 6796342552837496564, 3963709218487736004, 11869507492304374432, 7491219276692511038, 17108779980408342790)\n",
      "Round 2:\n",
      "(6286105364352512153, 17985860294796311537, 9345400983058519278, 4823584712699818929, 7592681812112444861, 12285819859301081349, 8696939243258074783, 12059135831042518743, 6827571267333842278, 5013808258607437272, 12075345740667337345, 11971779355482478795, 10695815297893868736, 11982168343789428883, 5106944887466967556, 6814426455101604673)\n",
      "Round 3:\n",
      "(7125984701079541885, 13703424305218035968, 15382640950439390211, 13892416975492464765, 10013294237979062072, 12926974615054989023, 8765320937915539373, 5249117573702297764, 3064463953341252716, 1630229434993870734, 9905993257711309839, 15255305736124280041, 12189914890971570438, 18428914739834411467, 15996699576317910304, 11053828540506304354)\n",
      "Round 4:\n",
      "(14273019456630489802, 12225354657803044645, 18223679466392555512, 4879234115918641111, 198243361942729835, 6697571774370475124, 3935892719377798608, 2781322532457452310, 7475933807446249354, 7334965145562953054, 1275437117587945070, 2445375571864276273, 17005006372293520413, 9537835648539327419, 12703602725074524970, 5428520427373770602)\n"
     ]
    }
   ],
   "source": [
    "## Test round par round\n",
    "\n",
    "input_vector = vector(Fp, range(16))\n",
    "\n",
    "# Input: [0, 1, 2, 3, 4, 5, 6, 7, 8, 9, 10, 11, 12, 13, 14, 15]\n",
    "print(\"Input vector : \")\n",
    "print(input_vector)\n",
    "\n",
    "round_vec = f_round(input_vector, round_constants[0])\n",
    "print(\"Round 0:\")\n",
    "print(round_vec)\n",
    "\n",
    "for i in range(1, 5):\n",
    "    round_vec = f_round(round_vec, round_constants[i])\n",
    "    print(\"Round {}:\".format(i))\n",
    "    print(round_vec)\n",
    "# Round 0, [13630782508720194763, 16896939616488417250, 10379461926478353614, 1965419705225900095, \n",
    "#           15232556039317481696, 15892650859074054562, 3989146699522356499, 2851429654516916073, \n",
    "#           8709150154677642965, 3694873970563706046, 12692454266991701284, 10722328271963650077, \n",
    "#           12745446202694634001, 17932435653561793077, 7558114238277667122, 15551061978796482092]\n",
    "# Round 1, [5525363112442782795, 3196671190848592148, 6751865969657517721, 6246363638275815365, \n",
    "#           17526105136308566870, 6414711837228726335, 17165555941248860828, 10245588381698521362, \n",
    "#           17368540314743694648, 14208333065255843385, 12223130565514930992, 6796342552837496564, \n",
    "#           3963709218487736004, 11869507492304374432, 7491219276692511038, 17108779980408342790]\n",
    "# Round 2, [6286105364352512153, 17985860294796311537, 9345400983058519278, 4823584712699818929, \n",
    "#           7592681812112444861, 12285819859301081349, 8696939243258074783, 12059135831042518743, \n",
    "#           6827571267333842278, 5013808258607437272, 12075345740667337345, 11971779355482478795, \n",
    "#           10695815297893868736, 11982168343789428883, 5106944887466967556, 6814426455101604673]\n",
    "# Round 3, [7125984701079541885, 13703424305218035968, 15382640950439390211, 13892416975492464765, \n",
    "#           10013294237979062072, 12926974615054989023, 8765320937915539373, 5249117573702297764, \n",
    "#           3064463953341252716, 1630229434993870734, 9905993257711309839, 15255305736124280041, \n",
    "#           12189914890971570438, 18428914739834411467, 15996699576317910304, 11053828540506304354]\n",
    "# Round 4, [14273019456630489802, 12225354657803044645, 18223679466392555512, 4879234115918641111, \n",
    "#           198243361942729835, 6697571774370475124, 3935892719377798608, 2781322532457452310, \n",
    "#           7475933807446249354, 7334965145562953054, 1275437117587945070, 2445375571864276273, \n",
    "#           17005006372293520413, 9537835648539327419, 12703602725074524970, 5428520427373770602]\n"
   ]
  },
  {
   "cell_type": "markdown",
   "metadata": {
    "collapsed": true
   },
   "source": [
    "## Controlling from round 2"
   ]
  },
  {
   "cell_type": "code",
   "execution_count": 65,
   "metadata": {
    "collapsed": false
   },
   "outputs": [
    {
     "name": "stdout",
     "output_type": "stream",
     "text": [
      "0\n",
      "1\n",
      "2\n",
      "3\n",
      "4\n",
      "5\n",
      "6\n",
      "7\n",
      "8\n",
      "9\n",
      "10\n"
     ]
    },
    {
     "ename": "IndexError",
     "evalue": "vector index out of range",
     "output_type": "error",
     "traceback": [
      "\u001b[0;31m---------------------------------------------------------------------------\u001b[0m",
      "\u001b[0;31mIndexError\u001b[0m                                Traceback (most recent call last)",
      "\u001b[0;32m<ipython-input-65-ac052b3f34d1>\u001b[0m in \u001b[0;36m<module>\u001b[0;34m()\u001b[0m\n\u001b[1;32m      1\u001b[0m \u001b[0;31m# Choose control vectors\u001b[0m\u001b[0;34m\u001b[0m\u001b[0;34m\u001b[0m\u001b[0m\n\u001b[0;32m----> 2\u001b[0;31m \u001b[0ma\u001b[0m \u001b[0;34m=\u001b[0m \u001b[0morthogonal_vector\u001b[0m\u001b[0;34m(\u001b[0m\u001b[0mM\u001b[0m\u001b[0;34m)\u001b[0m\u001b[0;34m\u001b[0m\u001b[0m\n\u001b[0m\u001b[1;32m      3\u001b[0m \u001b[0mb\u001b[0m \u001b[0;34m=\u001b[0m \u001b[0mfix_constants\u001b[0m\u001b[0;34m(\u001b[0m\u001b[0mM\u001b[0m\u001b[0;34m,\u001b[0m \u001b[0mround_constants\u001b[0m\u001b[0;34m[\u001b[0m\u001b[0mInteger\u001b[0m\u001b[0;34m(\u001b[0m\u001b[0;36m0\u001b[0m\u001b[0;34m)\u001b[0m\u001b[0;34m]\u001b[0m\u001b[0;34m,\u001b[0m \u001b[0mround_constants\u001b[0m\u001b[0;34m[\u001b[0m\u001b[0mInteger\u001b[0m\u001b[0;34m(\u001b[0m\u001b[0;36m1\u001b[0m\u001b[0;34m)\u001b[0m\u001b[0;34m]\u001b[0m\u001b[0;34m,\u001b[0m \u001b[0mvector\u001b[0m\u001b[0;34m(\u001b[0m\u001b[0mFp\u001b[0m\u001b[0;34m,\u001b[0m \u001b[0;34m[\u001b[0m\u001b[0mInteger\u001b[0m\u001b[0;34m(\u001b[0m\u001b[0;36m1\u001b[0m\u001b[0;34m)\u001b[0m\u001b[0;34m,\u001b[0m\u001b[0mInteger\u001b[0m\u001b[0;34m(\u001b[0m\u001b[0;36m1\u001b[0m\u001b[0;34m)\u001b[0m\u001b[0;34m,\u001b[0m\u001b[0mInteger\u001b[0m\u001b[0;34m(\u001b[0m\u001b[0;36m1\u001b[0m\u001b[0;34m)\u001b[0m\u001b[0;34m,\u001b[0m\u001b[0mInteger\u001b[0m\u001b[0;34m(\u001b[0m\u001b[0;36m1\u001b[0m\u001b[0;34m)\u001b[0m\u001b[0;34m,\u001b[0m\u001b[0mInteger\u001b[0m\u001b[0;34m(\u001b[0m\u001b[0;36m1\u001b[0m\u001b[0;34m)\u001b[0m\u001b[0;34m,\u001b[0m\u001b[0mInteger\u001b[0m\u001b[0;34m(\u001b[0m\u001b[0;36m1\u001b[0m\u001b[0;34m)\u001b[0m\u001b[0;34m]\u001b[0m\u001b[0;34m)\u001b[0m\u001b[0;34m)\u001b[0m\u001b[0;34m\u001b[0m\u001b[0m\n\u001b[1;32m      4\u001b[0m \u001b[0;34m\u001b[0m\u001b[0m\n\u001b[1;32m      5\u001b[0m \u001b[0;31m# We get a valid input for Tip5 by choosing an element of an affine subspace as input of round 2.\u001b[0m\u001b[0;34m\u001b[0m\u001b[0;34m\u001b[0m\u001b[0m\n",
      "\u001b[0;32m<ipython-input-64-583ba0ffc473>\u001b[0m in \u001b[0;36morthogonal_vector\u001b[0;34m(M)\u001b[0m\n\u001b[1;32m     43\u001b[0m         \u001b[0;32mfor\u001b[0m \u001b[0mj\u001b[0m \u001b[0;32min\u001b[0m \u001b[0mrange\u001b[0m\u001b[0;34m(\u001b[0m\u001b[0mInteger\u001b[0m\u001b[0;34m(\u001b[0m\u001b[0;36m16\u001b[0m\u001b[0;34m)\u001b[0m\u001b[0;34m)\u001b[0m\u001b[0;34m:\u001b[0m\u001b[0;34m\u001b[0m\u001b[0m\n\u001b[1;32m     44\u001b[0m             \u001b[0;32mprint\u001b[0m\u001b[0;34m(\u001b[0m\u001b[0mj\u001b[0m\u001b[0;34m)\u001b[0m\u001b[0;34m\u001b[0m\u001b[0m\n\u001b[0;32m---> 45\u001b[0;31m             \u001b[0mvec\u001b[0m\u001b[0;34m[\u001b[0m\u001b[0mj\u001b[0m\u001b[0;34m]\u001b[0m \u001b[0;34m+=\u001b[0m \u001b[0mx\u001b[0m\u001b[0;34m[\u001b[0m\u001b[0mi\u001b[0m\u001b[0;34m]\u001b[0m \u001b[0;34m*\u001b[0m \u001b[0mbase\u001b[0m\u001b[0;34m[\u001b[0m\u001b[0mi\u001b[0m\u001b[0;34m]\u001b[0m\u001b[0;34m[\u001b[0m\u001b[0mj\u001b[0m\u001b[0;34m]\u001b[0m\u001b[0;34m\u001b[0m\u001b[0m\n\u001b[0m\u001b[1;32m     46\u001b[0m     \u001b[0ma\u001b[0m \u001b[0;34m=\u001b[0m \u001b[0mzero_vector\u001b[0m\u001b[0;34m(\u001b[0m\u001b[0mFp\u001b[0m\u001b[0;34m,\u001b[0m \u001b[0mInteger\u001b[0m\u001b[0;34m(\u001b[0m\u001b[0;36m16\u001b[0m\u001b[0;34m)\u001b[0m\u001b[0;34m)\u001b[0m\u001b[0;34m\u001b[0m\u001b[0m\n\u001b[1;32m     47\u001b[0m \u001b[0;34m\u001b[0m\u001b[0m\n",
      "\u001b[0;32msage/modules/free_module_element.pyx\u001b[0m in \u001b[0;36msage.modules.free_module_element.FreeModuleElement.__getitem__ (/usr/lib/sagemath//src/build/cythonized/sage/modules/free_module_element.c:13228)\u001b[0;34m()\u001b[0m\n",
      "\u001b[0;31mIndexError\u001b[0m: vector index out of range"
     ]
    }
   ],
   "source": [
    "# Choose control vectors\n",
    "a = orthogonal_vector(M)\n",
    "b = fix_constants(M, round_constants[0], round_constants[1], vector(Fp, [1,1,1,1,1,1]))\n",
    "\n",
    "# We get a valid input for Tip5 by choosing an element of an affine subspace as input of round 2.\n",
    "control_from_round2(Fp(42), a, b)"
   ]
  }
 ],
 "metadata": {
  "kernelspec": {
   "display_name": "SageMath 7.5.1",
   "language": "",
   "name": "sagemath"
  },
  "language_info": {
   "codemirror_mode": {
    "name": "ipython",
    "version": 2
   },
   "file_extension": ".py",
   "mimetype": "text/x-python",
   "name": "python",
   "nbconvert_exporter": "python",
   "pygments_lexer": "ipython2",
   "version": "2.7.13"
  }
 },
 "nbformat": 4,
 "nbformat_minor": 0
}
